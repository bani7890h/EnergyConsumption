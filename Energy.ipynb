{
 "cells": [
  {
   "cell_type": "markdown",
   "id": "2b023f6b-0bb2-4328-a122-1d93f4d96dfc",
   "metadata": {},
   "source": [
    "# Importing Libaries"
   ]
  },
  {
   "cell_type": "code",
   "execution_count": 1,
   "id": "8eca0a10-6bf1-446d-8484-3fd820136498",
   "metadata": {},
   "outputs": [],
   "source": [
    "import pandas as pd #for data manipulation\n",
    "import matplotlib.pyplot as plt #for visualization\n",
    "import seaborn as sns #for visualization\n",
    "from sklearn.ensemble import RandomForestRegressor, ExtraTreesRegressor, GradientBoostingRegressor # Importing ensemble methods from scikit-learn \n",
    "from sklearn.preprocessing import StandardScaler # Preprocessing module for feature scaling\n",
    "from sklearn.model_selection import train_test_split, GridSearchCV, KFold, cross_val_predict #for model selection\n",
    "from xgboost import XGBRegressor# Importing ensemble methods\n",
    "import lightgbm as lgb # LightGBM for gradient boosting framework \n",
    "import numpy as np # for working with numerical data\n",
    "import plotly.graph_objects as go #for visualization\n",
    "from sklearn.metrics import mean_squared_error, r2_score # Metrics module to evaluate the prediction error and performance\n",
    "import os #provides functions for interacting with the operating system.\n",
    "import sys #It lets us access system-specific parameters and functions\n",
    "import logging #track events that happen when some software runs\n",
    "from tqdm import tqdm #creat progress bars"
   ]
  },
  {
   "cell_type": "code",
   "execution_count": null,
   "id": "6ab0ab6e",
   "metadata": {},
   "outputs": [],
   "source": [
    "from google.colab import files # Import files module from google.colab\n",
    "uploaded = files.upload()"
   ]
  },
  {
   "cell_type": "code",
   "execution_count": 2,
   "id": "88191ce1-fb59-4c78-b3d4-99b814a78c1b",
   "metadata": {},
   "outputs": [
    {
     "data": {
      "text/html": [
       "<div>\n",
       "<style scoped>\n",
       "    .dataframe tbody tr th:only-of-type {\n",
       "        vertical-align: middle;\n",
       "    }\n",
       "\n",
       "    .dataframe tbody tr th {\n",
       "        vertical-align: top;\n",
       "    }\n",
       "\n",
       "    .dataframe thead th {\n",
       "        text-align: right;\n",
       "    }\n",
       "</style>\n",
       "<table border=\"1\" class=\"dataframe\">\n",
       "  <thead>\n",
       "    <tr style=\"text-align: right;\">\n",
       "      <th></th>\n",
       "      <th>Timestamp</th>\n",
       "      <th>Temperature</th>\n",
       "      <th>Humidity</th>\n",
       "      <th>SquareFootage</th>\n",
       "      <th>Occupancy</th>\n",
       "      <th>HVACUsage</th>\n",
       "      <th>LightingUsage</th>\n",
       "      <th>RenewableEnergy</th>\n",
       "      <th>DayOfWeek</th>\n",
       "      <th>Holiday</th>\n",
       "      <th>EnergyConsumption</th>\n",
       "    </tr>\n",
       "  </thead>\n",
       "  <tbody>\n",
       "    <tr>\n",
       "      <th>0</th>\n",
       "      <td>2022-01-01 00:00:00</td>\n",
       "      <td>25.139433</td>\n",
       "      <td>43.431581</td>\n",
       "      <td>1565.693999</td>\n",
       "      <td>5</td>\n",
       "      <td>On</td>\n",
       "      <td>Off</td>\n",
       "      <td>2.774699</td>\n",
       "      <td>Monday</td>\n",
       "      <td>No</td>\n",
       "      <td>75.364373</td>\n",
       "    </tr>\n",
       "    <tr>\n",
       "      <th>1</th>\n",
       "      <td>2022-01-01 01:00:00</td>\n",
       "      <td>27.731651</td>\n",
       "      <td>54.225919</td>\n",
       "      <td>1411.064918</td>\n",
       "      <td>1</td>\n",
       "      <td>On</td>\n",
       "      <td>On</td>\n",
       "      <td>21.831384</td>\n",
       "      <td>Saturday</td>\n",
       "      <td>No</td>\n",
       "      <td>83.401855</td>\n",
       "    </tr>\n",
       "    <tr>\n",
       "      <th>2</th>\n",
       "      <td>2022-01-01 02:00:00</td>\n",
       "      <td>28.704277</td>\n",
       "      <td>58.907658</td>\n",
       "      <td>1755.715009</td>\n",
       "      <td>2</td>\n",
       "      <td>Off</td>\n",
       "      <td>Off</td>\n",
       "      <td>6.764672</td>\n",
       "      <td>Sunday</td>\n",
       "      <td>No</td>\n",
       "      <td>78.270888</td>\n",
       "    </tr>\n",
       "    <tr>\n",
       "      <th>3</th>\n",
       "      <td>2022-01-01 03:00:00</td>\n",
       "      <td>20.080469</td>\n",
       "      <td>50.371637</td>\n",
       "      <td>1452.316318</td>\n",
       "      <td>1</td>\n",
       "      <td>Off</td>\n",
       "      <td>On</td>\n",
       "      <td>8.623447</td>\n",
       "      <td>Wednesday</td>\n",
       "      <td>No</td>\n",
       "      <td>56.519850</td>\n",
       "    </tr>\n",
       "    <tr>\n",
       "      <th>4</th>\n",
       "      <td>2022-01-01 04:00:00</td>\n",
       "      <td>23.097359</td>\n",
       "      <td>51.401421</td>\n",
       "      <td>1094.130359</td>\n",
       "      <td>9</td>\n",
       "      <td>On</td>\n",
       "      <td>Off</td>\n",
       "      <td>3.071969</td>\n",
       "      <td>Friday</td>\n",
       "      <td>No</td>\n",
       "      <td>70.811732</td>\n",
       "    </tr>\n",
       "    <tr>\n",
       "      <th>5</th>\n",
       "      <td>2022-01-01 05:00:00</td>\n",
       "      <td>29.576037</td>\n",
       "      <td>36.824263</td>\n",
       "      <td>1871.709180</td>\n",
       "      <td>6</td>\n",
       "      <td>Off</td>\n",
       "      <td>Off</td>\n",
       "      <td>17.626690</td>\n",
       "      <td>Sunday</td>\n",
       "      <td>Yes</td>\n",
       "      <td>84.321885</td>\n",
       "    </tr>\n",
       "    <tr>\n",
       "      <th>6</th>\n",
       "      <td>2022-01-01 06:00:00</td>\n",
       "      <td>25.131167</td>\n",
       "      <td>35.709622</td>\n",
       "      <td>1607.001228</td>\n",
       "      <td>6</td>\n",
       "      <td>On</td>\n",
       "      <td>Off</td>\n",
       "      <td>24.264702</td>\n",
       "      <td>Friday</td>\n",
       "      <td>Yes</td>\n",
       "      <td>76.165791</td>\n",
       "    </tr>\n",
       "  </tbody>\n",
       "</table>\n",
       "</div>"
      ],
      "text/plain": [
       "             Timestamp  Temperature   Humidity  SquareFootage  Occupancy  \\\n",
       "0  2022-01-01 00:00:00    25.139433  43.431581    1565.693999          5   \n",
       "1  2022-01-01 01:00:00    27.731651  54.225919    1411.064918          1   \n",
       "2  2022-01-01 02:00:00    28.704277  58.907658    1755.715009          2   \n",
       "3  2022-01-01 03:00:00    20.080469  50.371637    1452.316318          1   \n",
       "4  2022-01-01 04:00:00    23.097359  51.401421    1094.130359          9   \n",
       "5  2022-01-01 05:00:00    29.576037  36.824263    1871.709180          6   \n",
       "6  2022-01-01 06:00:00    25.131167  35.709622    1607.001228          6   \n",
       "\n",
       "  HVACUsage LightingUsage  RenewableEnergy  DayOfWeek Holiday  \\\n",
       "0        On           Off         2.774699     Monday      No   \n",
       "1        On            On        21.831384   Saturday      No   \n",
       "2       Off           Off         6.764672     Sunday      No   \n",
       "3       Off            On         8.623447  Wednesday      No   \n",
       "4        On           Off         3.071969     Friday      No   \n",
       "5       Off           Off        17.626690     Sunday     Yes   \n",
       "6        On           Off        24.264702     Friday     Yes   \n",
       "\n",
       "   EnergyConsumption  \n",
       "0          75.364373  \n",
       "1          83.401855  \n",
       "2          78.270888  \n",
       "3          56.519850  \n",
       "4          70.811732  \n",
       "5          84.321885  \n",
       "6          76.165791  "
      ]
     },
     "execution_count": 2,
     "metadata": {},
     "output_type": "execute_result"
    }
   ],
   "source": [
    "df = pd.read_csv('Energy_consumption.csv') # Load a CSV file\n",
    "df.head(7) ## Display the first 7 rows "
   ]
  },
  {
   "cell_type": "code",
   "execution_count": 3,
   "id": "95dc024d-1930-4344-be9b-a2bf72bec5d6",
   "metadata": {},
   "outputs": [
    {
     "data": {
      "text/html": [
       "<div>\n",
       "<style scoped>\n",
       "    .dataframe tbody tr th:only-of-type {\n",
       "        vertical-align: middle;\n",
       "    }\n",
       "\n",
       "    .dataframe tbody tr th {\n",
       "        vertical-align: top;\n",
       "    }\n",
       "\n",
       "    .dataframe thead th {\n",
       "        text-align: right;\n",
       "    }\n",
       "</style>\n",
       "<table border=\"1\" class=\"dataframe\">\n",
       "  <thead>\n",
       "    <tr style=\"text-align: right;\">\n",
       "      <th></th>\n",
       "      <th>Temperature</th>\n",
       "      <th>Humidity</th>\n",
       "      <th>SquareFootage</th>\n",
       "      <th>Occupancy</th>\n",
       "      <th>HVACUsage</th>\n",
       "      <th>LightingUsage</th>\n",
       "      <th>RenewableEnergy</th>\n",
       "      <th>DayOfWeek</th>\n",
       "      <th>Holiday</th>\n",
       "      <th>EnergyConsumption</th>\n",
       "    </tr>\n",
       "    <tr>\n",
       "      <th>Timestamp</th>\n",
       "      <th></th>\n",
       "      <th></th>\n",
       "      <th></th>\n",
       "      <th></th>\n",
       "      <th></th>\n",
       "      <th></th>\n",
       "      <th></th>\n",
       "      <th></th>\n",
       "      <th></th>\n",
       "      <th></th>\n",
       "    </tr>\n",
       "  </thead>\n",
       "  <tbody>\n",
       "    <tr>\n",
       "      <th>2022-01-01 00:00:00+00:00</th>\n",
       "      <td>25.139433</td>\n",
       "      <td>43.431581</td>\n",
       "      <td>1565.693999</td>\n",
       "      <td>5</td>\n",
       "      <td>On</td>\n",
       "      <td>Off</td>\n",
       "      <td>2.774699</td>\n",
       "      <td>Monday</td>\n",
       "      <td>No</td>\n",
       "      <td>75.364373</td>\n",
       "    </tr>\n",
       "    <tr>\n",
       "      <th>2022-01-01 01:00:00+00:00</th>\n",
       "      <td>27.731651</td>\n",
       "      <td>54.225919</td>\n",
       "      <td>1411.064918</td>\n",
       "      <td>1</td>\n",
       "      <td>On</td>\n",
       "      <td>On</td>\n",
       "      <td>21.831384</td>\n",
       "      <td>Saturday</td>\n",
       "      <td>No</td>\n",
       "      <td>83.401855</td>\n",
       "    </tr>\n",
       "    <tr>\n",
       "      <th>2022-01-01 02:00:00+00:00</th>\n",
       "      <td>28.704277</td>\n",
       "      <td>58.907658</td>\n",
       "      <td>1755.715009</td>\n",
       "      <td>2</td>\n",
       "      <td>Off</td>\n",
       "      <td>Off</td>\n",
       "      <td>6.764672</td>\n",
       "      <td>Sunday</td>\n",
       "      <td>No</td>\n",
       "      <td>78.270888</td>\n",
       "    </tr>\n",
       "    <tr>\n",
       "      <th>2022-01-01 03:00:00+00:00</th>\n",
       "      <td>20.080469</td>\n",
       "      <td>50.371637</td>\n",
       "      <td>1452.316318</td>\n",
       "      <td>1</td>\n",
       "      <td>Off</td>\n",
       "      <td>On</td>\n",
       "      <td>8.623447</td>\n",
       "      <td>Wednesday</td>\n",
       "      <td>No</td>\n",
       "      <td>56.519850</td>\n",
       "    </tr>\n",
       "    <tr>\n",
       "      <th>2022-01-01 04:00:00+00:00</th>\n",
       "      <td>23.097359</td>\n",
       "      <td>51.401421</td>\n",
       "      <td>1094.130359</td>\n",
       "      <td>9</td>\n",
       "      <td>On</td>\n",
       "      <td>Off</td>\n",
       "      <td>3.071969</td>\n",
       "      <td>Friday</td>\n",
       "      <td>No</td>\n",
       "      <td>70.811732</td>\n",
       "    </tr>\n",
       "  </tbody>\n",
       "</table>\n",
       "</div>"
      ],
      "text/plain": [
       "                           Temperature   Humidity  SquareFootage  Occupancy  \\\n",
       "Timestamp                                                                     \n",
       "2022-01-01 00:00:00+00:00    25.139433  43.431581    1565.693999          5   \n",
       "2022-01-01 01:00:00+00:00    27.731651  54.225919    1411.064918          1   \n",
       "2022-01-01 02:00:00+00:00    28.704277  58.907658    1755.715009          2   \n",
       "2022-01-01 03:00:00+00:00    20.080469  50.371637    1452.316318          1   \n",
       "2022-01-01 04:00:00+00:00    23.097359  51.401421    1094.130359          9   \n",
       "\n",
       "                          HVACUsage LightingUsage  RenewableEnergy  DayOfWeek  \\\n",
       "Timestamp                                                                       \n",
       "2022-01-01 00:00:00+00:00        On           Off         2.774699     Monday   \n",
       "2022-01-01 01:00:00+00:00        On            On        21.831384   Saturday   \n",
       "2022-01-01 02:00:00+00:00       Off           Off         6.764672     Sunday   \n",
       "2022-01-01 03:00:00+00:00       Off            On         8.623447  Wednesday   \n",
       "2022-01-01 04:00:00+00:00        On           Off         3.071969     Friday   \n",
       "\n",
       "                          Holiday  EnergyConsumption  \n",
       "Timestamp                                             \n",
       "2022-01-01 00:00:00+00:00      No          75.364373  \n",
       "2022-01-01 01:00:00+00:00      No          83.401855  \n",
       "2022-01-01 02:00:00+00:00      No          78.270888  \n",
       "2022-01-01 03:00:00+00:00      No          56.519850  \n",
       "2022-01-01 04:00:00+00:00      No          70.811732  "
      ]
     },
     "execution_count": 3,
     "metadata": {},
     "output_type": "execute_result"
    }
   ],
   "source": [
    "df['Timestamp'] = pd.to_datetime(df['Timestamp'], utc=True, infer_datetime_format=True) # Convert the 'Timestamp' column to datetime objects\n",
    "df = df.set_index('Timestamp') # Set the 'Timestamp' column as the index of the DataFrame\n",
    "df.head(5)"
   ]
  },
  {
   "cell_type": "code",
   "execution_count": 4,
   "id": "9b2b8ec7-1653-4bb3-bab5-62c26f4ba4bc",
   "metadata": {},
   "outputs": [
    {
     "data": {
      "text/plain": [
       "Temperature          0\n",
       "Humidity             0\n",
       "SquareFootage        0\n",
       "Occupancy            0\n",
       "HVACUsage            0\n",
       "LightingUsage        0\n",
       "RenewableEnergy      0\n",
       "DayOfWeek            0\n",
       "Holiday              0\n",
       "EnergyConsumption    0\n",
       "dtype: int64"
      ]
     },
     "execution_count": 4,
     "metadata": {},
     "output_type": "execute_result"
    }
   ],
   "source": [
    "df.isnull().sum() #check the number of missing (NaN) values"
   ]
  },
  {
   "cell_type": "code",
   "execution_count": 5,
   "id": "0b1194f1-7765-4a16-86e2-4e45804e199c",
   "metadata": {},
   "outputs": [
    {
     "data": {
      "text/plain": [
       "Temperature          float64\n",
       "Humidity             float64\n",
       "SquareFootage        float64\n",
       "Occupancy              int64\n",
       "HVACUsage             object\n",
       "LightingUsage         object\n",
       "RenewableEnergy      float64\n",
       "DayOfWeek             object\n",
       "Holiday               object\n",
       "EnergyConsumption    float64\n",
       "dtype: object"
      ]
     },
     "execution_count": 5,
     "metadata": {},
     "output_type": "execute_result"
    }
   ],
   "source": [
    "df.dtypes #display the data types of each column"
   ]
  },
  {
   "cell_type": "code",
   "execution_count": 6,
   "id": "d99773e3-4104-44c4-ad91-f046b9715e21",
   "metadata": {},
   "outputs": [],
   "source": [
    "def plot_series(data, column=None, series=None, label=None, ylabel=None, title=None, start=0, end=None):\n",
    "    sns.set() # # Set the seaborn style\n",
    "    fig, ax = plt.subplots(figsize=(15, 6))\n",
    "    ax.set_xlabel('Time', fontsize=12) #Set the label for the x-axis\n",
    "    \n",
    "    if column:  # Checks If 'column' parameter is provided, plot data from DataFrame\n",
    "        ax.plot(data.index[start:end], data[column][start:end], label=label)\n",
    "    elif series is not None:\n",
    "        ax.plot(series.index[start:end], series[start:end], label=label)\n",
    "        \n",
    "    ax.set_ylabel(ylabel, fontsize=12) # Set the label for the y-axis\n",
    "    \n",
    "    if label:\n",
    "        ax.legend(fontsize=10)\n",
    "        \n",
    "    if title:# Set the title if provided\n",
    "        ax.set_title(title, fontsize=12)\n",
    "        \n",
    "    ax.grid(True)\n",
    "    return ax #reurn to displaying the plot\n"
   ]
  },
  {
   "cell_type": "code",
   "execution_count": 8,
   "id": "dfedd318-c1e7-46de-90bd-ce2322a63bce",
   "metadata": {},
   "outputs": [
    {
     "data": {
      "image/png": "[encoded data removed]",
      "text/plain": [
       "<Figure size 1500x600 with 1 Axes>"
      ]
     },
     "metadata": {},
     "output_type": "display_data"
    }
   ],
   "source": [
    "#plot energy used in the first week\n",
    "ax = plot_series(df, column='EnergyConsumption', ylabel='Total Load (MWh)', title='Energy Consumption (First 1 week)', end=24*7)\n",
    "plt.show()"
   ]
  },
  {
   "cell_type": "code",
   "execution_count": null,
   "id": "3c5deaad-9277-4637-b10e-894cd7d593e1",
   "metadata": {},
   "outputs": [],
   "source": []
  },
  {
   "cell_type": "code",
   "execution_count": 9,
   "id": "79b55123-0b10-4360-b1ed-c6d40a5cb340",
   "metadata": {},
   "outputs": [
    {
     "data": {
      "image/png": "[encoded data removed]",
      "text/plain": [
       "<Figure size 1500x600 with 1 Axes>"
      ]
     },
     "metadata": {},
     "output_type": "display_data"
    }
   ],
   "source": [
    "rolling = df['EnergyConsumption'].rolling(24, center=True).mean()#Calculate the mean of energy consumption\n",
    "ax = plot_series(df, 'EnergyConsumption', label='Hourly', ylabel='Energy Consumption', title='Energy Consumption Hourly')\n",
    "ax.plot(rolling.index, rolling, linestyle='-', linewidth=2, label='Weekly rolling mean')\n",
    "plt.show() # Plot hourly energy consumption"
   ]
  },
  {
   "cell_type": "code",
   "execution_count": 10,
   "id": "d05de024-62d2-423e-a0bc-55afc9fd3eb9",
   "metadata": {},
   "outputs": [],
   "source": [
    "category = df.select_dtypes(include=\"object\") #select columns based on their data types"
   ]
  },
  {
   "cell_type": "code",
   "execution_count": 11,
   "id": "1867d2ae-18fb-42ae-9acd-34978c35e583",
   "metadata": {},
   "outputs": [
    {
     "data": {
      "image/png": "[encoded data removed]",
      "text/plain": [
       "<Figure size 640x480 with 1 Axes>"
      ]
     },
     "metadata": {},
     "output_type": "display_data"
    }
   ],
   "source": [
    "# @title Holiday\n",
    "category.groupby('Holiday').size().plot(kind='barh', color=sns.palettes.mpl_palette('Dark2'))# Group the data by the 'Holiday' column and calculate the size of each group,\n",
    "plt.gca().spines[['top', 'right',]].set_visible(False)"
   ]
  },
  {
   "cell_type": "code",
   "execution_count": 12,
   "id": "223b1a56-b516-4430-9e6b-b78666e45c25",
   "metadata": {},
   "outputs": [
    {
     "data": {
      "image/png": "[encoded data removed]",
      "text/plain": [
       "<Figure size 640x480 with 1 Axes>"
      ]
     },
     "metadata": {},
     "output_type": "display_data"
    }
   ],
   "source": [
    "# @title DayOfWeek\n",
    "category.groupby('DayOfWeek').size().plot(kind='barh', color=sns.palettes.mpl_palette('Dark2')) #count the occurrences of each category in the 'DayOfWeek\n",
    "plt.gca().spines[['top', 'right',]].set_visible(False)"
   ]
  },
  {
   "cell_type": "code",
   "execution_count": 13,
   "id": "59ad0d5f-944b-4444-a5fc-f0dcc247107c",
   "metadata": {},
   "outputs": [
    {
     "data": {
      "application/vnd.plotly.v1+json": {
       "config": {
        "plotlyServerURL": "https://plot.ly"
       },
       "data": [
        {
         "boxmean": "sd",
         "fillcolor": "rgba(255,140,0,0.5)",
         "line": {
          "color": "rgb(255,140,0)"
         },
         "marker": {
          "color": "rgb(255,140,0)"
         },
         "type": "box",
         "x": [
          75.36437339539214,
          83.40185495035139,
          78.27088774061066,
          56.51985048548002,
          70.81173246793318,
          84.32188519433718,
          76.16579090213895,
          74.1319061773031,
          78.20623587095885,
          77.99221370196022,
          82.27443448386548,
          73.27866950427382,
          84.14477565753458,
          60.0225185622203,
          81.18318756246354,
          74.081256288494,
          89.4982076601557,
          72.87244263642421,
          83.8998965998896,
          82.07757940317406,
          94.236287728335,
          59.672380432970826,
          70.23522761734993,
          78.39420777459377,
          87.84164465666763,
          72.92984426206768,
          86.66909405376278,
          80.41142775984329,
          64.21209800102363,
          74.16033755004982,
          81.04958057295511,
          70.30817192579988,
          82.28439185280472,
          59.847392688307885,
          82.50403686398842,
          82.78244589126273,
          74.67411328167944,
          86.88913818269737,
          78.54242641942929,
          77.22845715853467,
          73.73515145603137,
          91.84340824868656,
          73.35070513237227,
          66.20209750906106,
          77.85177634998958,
          90.98147610427824,
          81.91707933111346,
          70.22461753933254,
          88.73376918202806,
          76.55502512631448,
          62.05505493579667,
          62.00189386466329,
          80.45212742101157,
          64.71822006448231,
          91.87196450897233,
          69.69226303092958,
          63.85097612559908,
          68.80528577996184,
          76.30130928798148,
          84.03868416047865,
          77.67379217139589,
          78.9122501589774,
          64.04242487840129,
          78.18728130362722,
          63.39384819262403,
          76.1061781008304,
          60.14423797781192,
          80.19264551142784,
          86.22364506793032,
          53.26327834004948,
          64.963183670906,
          66.43892064888173,
          75.91390632236421,
          84.1914674081221,
          75.25176382432235,
          75.0144709786204,
          69.36574478049252,
          78.04604233404717,
          67.48478775030759,
          78.25428789721424,
          74.84338094009375,
          64.64191192860432,
          89.08843429796624,
          73.15432864841176,
          72.1170986136019,
          76.72156432900981,
          65.97246106658439,
          61.53670969150112,
          77.38447783546265,
          76.07661992033586,
          74.8678736943382,
          86.28935401350225,
          83.87525695191415,
          83.45804939133072,
          81.99682840223484,
          86.64692164178189,
          75.98238074965289,
          70.71436235851863,
          81.7455295095431,
          85.18255250346287,
          75.29040593436996,
          85.18197378804605,
          72.76703721222391,
          81.81977544986103,
          78.64588465860416,
          66.95161483968974,
          71.17906441062561,
          63.861910204942966,
          61.130942848363965,
          79.72428614261031,
          81.89398685671573,
          85.36040306812063,
          77.77646909816677,
          87.74800460069132,
          72.3960115782119,
          69.56901196476844,
          73.2522162580531,
          75.81440197116459,
          86.53486772687651,
          81.19093782580337,
          76.93645309620132,
          64.5953373760119,
          81.1090189124048,
          70.25774284987176,
          65.98142190071894,
          76.19515389291618,
          72.16382017990225,
          74.11809532316923,
          73.92814359788368,
          80.51166202577497,
          68.56408772167514,
          71.4275936133967,
          64.0769676381083,
          57.48444204410177,
          82.59776720138095,
          77.51805130415416,
          71.01713960978869,
          64.69791035517181,
          76.30888108689255,
          80.0038474890762,
          72.10407562222572,
          93.78946764246312,
          78.13896312348292,
          87.32448956439137,
          74.17904403679803,
          69.91514117978062,
          91.59435479545417,
          76.13895450681913,
          70.97691337938971,
          79.4339400188436,
          77.65217034892018,
          74.11609389205148,
          67.63764065291417,
          72.59022722499552,
          85.12072843207085,
          76.92758507734762,
          82.96293306052968,
          77.22008603312915,
          71.13106167742689,
          69.27222198435854,
          82.23684827593902,
          83.33161598574218,
          95.0709621683288,
          79.80025010450828,
          78.73050081593509,
          85.42767734648194,
          84.03168982758035,
          72.89058361910637,
          75.6149818889058,
          71.7896472154404,
          63.00815765839373,
          94.55062457295648,
          83.5768305363592,
          84.69317340818874,
          78.58613842129708,
          75.64668454750125,
          73.2068674222959,
          74.33393532360886,
          81.30053662729328,
          78.22920748795471,
          75.41031586036098,
          71.18623045897634,
          92.8609254933263,
          82.10276684430163,
          78.28652837883581,
          86.08746919457022,
          74.57680497677092,
          90.53846528743108,
          76.76832119015009,
          86.41515216046992,
          76.19438265142527,
          76.9339196411834,
          71.05504380693068,
          77.39615132557863,
          70.65426607453617,
          67.80754950018792,
          72.0717496237688,
          59.60890188505656,
          90.01159284299351,
          73.37704700964338,
          70.97874709212677,
          74.3795743154023,
          67.64237008316105,
          71.53539589665067,
          65.28898283111768,
          72.43112712908069,
          75.68903567876515,
          71.77872060518372,
          80.04392593841625,
          75.3694376988319,
          86.55059850127053,
          71.93814969843436,
          87.13708266107015,
          73.58696136798733,
          90.72509867918768,
          72.9962814909488,
          85.68075277503624,
          69.30518444855907,
          73.99983940485824,
          70.28576213853393,
          75.17636554806667,
          86.71559756482247,
          90.45215551215163,
          64.36966291489324,
          68.35678498918013,
          70.38082621458054,
          77.70804435496895,
          68.52149457374996,
          77.87769146042558,
          77.73573441216783,
          83.24548578666972,
          80.3018182837614,
          76.11191730004793,
          64.04576014798012,
          77.01609483925165,
          78.73329793345887,
          87.44225579139471,
          72.43118969395067,
          76.7162449831054,
          67.80696760106643,
          74.66520658582795,
          77.02412225998496,
          57.90048341076686,
          73.95195603161895,
          77.15892668556708,
          93.00944697108928,
          80.36211598533166,
          92.52121146546573,
          72.66316703041736,
          78.20231068064139,
          90.49170426163876,
          76.68183997746894,
          81.51851629194611,
          67.31542829520717,
          79.4966013466813,
          86.44733860392547,
          93.6948065961692,
          79.48953462894329,
          71.90487922337948,
          77.41385903979514,
          68.46853359640598,
          72.99317043236167,
          83.22600601472266,
          80.43141463610559,
          81.66465477661896,
          91.90838131284832,
          65.67603413159378,
          76.23584839186987,
          81.5468009875772,
          83.75995734706586,
          76.6397294517093,
          73.62997122390698,
          86.84928585114606,
          66.84867535430931,
          73.05780673555262,
          74.1265371474243,
          79.93849946694492,
          78.63688457616405,
          65.44542801992745,
          74.71188395531024,
          71.56881316922764,
          91.4909822926206,
          66.97225233849409,
          75.67917130358867,
          66.82945799702419,
          86.7796195617193,
          83.34114367658678,
          66.15000122161268,
          66.17761964929294,
          94.17851811048914,
          89.63251802091851,
          71.85136903241968,
          85.92555320264866,
          72.64321480838069,
          71.36935558590424,
          56.15820640429485,
          64.15908028277804,
          78.55300132169354,
          83.95704997280212,
          71.79237551051598,
          75.05653078298293,
          80.48703556235982,
          85.70653026443098,
          84.58609727444954,
          71.58907832757887,
          79.76637419566994,
          68.19559790535749,
          66.00177993173611,
          80.5143962201336,
          83.2193950399079,
          96.24479646780536,
          73.10864189200338,
          69.61597783748148,
          85.17992011721516,
          84.49219676792431,
          70.53600589636218,
          60.49180013829193,
          82.16772173437849,
          81.91204080431203,
          70.01666703086599,
          94.07625484931792,
          74.4007924032853,
          89.50707092353817,
          81.44492043977603,
          82.02665399387878,
          86.58971960151044,
          73.31338432781097,
          63.94519034195512,
          71.68215977091921,
          80.88488370658571,
          69.36518466401643,
          77.11135724587183,
          66.83338950834204,
          86.27594100947952,
          93.67536718801192,
          78.51637753836398,
          92.94947424303056,
          81.03512874471366,
          82.69984871990366,
          72.51616454377282,
          89.10422123551844,
          75.10348087974481,
          67.4347673094004,
          87.24482058496623,
          71.39509194269883,
          86.43309225941918,
          68.2435021615015,
          77.32618941148577,
          87.63455303671404,
          85.0477045249641,
          73.25681014128338,
          86.13804177699438,
          73.30170849678505,
          77.75822606497373,
          69.980899727324,
          81.71962012715123,
          83.18770623779959,
          74.50066582241101,
          85.30242790679038,
          68.1664191683244,
          78.27308086222502,
          83.73032136926082,
          91.26509966618862,
          84.27007059707874,
          72.99259684812475,
          82.85963588574896,
          77.1941932078873,
          94.62023821457578,
          89.00357444759614,
          68.83167001425691,
          84.01097145424957,
          78.9790545188001,
          67.4824550310811,
          78.8322123678672,
          89.16170791211029,
          80.90873748636218,
          69.84644934130478,
          93.61749392822172,
          71.72043318222806,
          78.84560725498649,
          73.12301845544222,
          63.87007076935118,
          79.85590094565664,
          87.41590659136119,
          78.57276368394248,
          91.41236536705472,
          81.73188628959403,
          79.16418646600803,
          86.15217410784291,
          81.36888676528652,
          71.93956193748485,
          99.20111959032307,
          63.12270832376059,
          81.98142865281332,
          80.25248579416566,
          71.29929557890472,
          88.01461174915498,
          66.26932558409561,
          82.2669388259017,
          87.04307524865446,
          77.37513106047973,
          65.98179416664804,
          60.54145962184359,
          92.04714123962164,
          85.23654873673894,
          64.86892378660065,
          65.37884108866804,
          88.69140252262352,
          86.91937064261256,
          83.90650416809571,
          74.11456005939908,
          83.89109970828049,
          71.04837024273033,
          81.67675119829586,
          85.43330464899245,
          71.31149601141918,
          71.59494171654234,
          66.63194054734754,
          78.85915530885171,
          82.06410931182897,
          73.07513597606074,
          79.16619554654747,
          72.79751943176964,
          66.47763445626643,
          72.80385072265209,
          76.06738490848045,
          67.98375026133883,
          81.38657107491966,
          83.25094380654245,
          67.17457319395716,
          67.26120660342814,
          80.34560178833401,
          77.04056884934522,
          95.4029596891022,
          67.29060455788681,
          86.07540331472565,
          91.0071222812532,
          66.91801210715869,
          67.80192844905321,
          72.79116253829804,
          73.71892622999403,
          73.95422052947721,
          79.62397199797275,
          88.68436418642132,
          81.29991310728172,
          70.67916601591584,
          65.17124623925778,
          63.86954231299019,
          76.93700355293326,
          77.43531155028174,
          77.03777489000016,
          61.4988615645802,
          87.8886308127343,
          61.89641476528576,
          94.62784881900978,
          77.22028479810245,
          68.5608633379115,
          73.59698894167262,
          77.94474788452226,
          69.71608824565111,
          92.01258748997904,
          83.41231082362565,
          82.21564364553204,
          78.21117089032514,
          78.1360012561382,
          70.75779856628381,
          84.90688052458705,
          83.57237385867964,
          70.11778994803151,
          81.28468117700135,
          71.89785867504911,
          78.21271299674177,
          67.07114719268937,
          79.52856103834532,
          83.78413525306924,
          81.52320357960576,
          66.46316709527558,
          81.99562721027641,
          70.23880499853406,
          77.77802650109714,
          77.80850874093727,
          85.28188329910856,
          81.99774141424908,
          69.42614283102364,
          57.96891358645942,
          70.76654655668561,
          84.2199784977911,
          74.60538130681516,
          91.1199805367326,
          69.31099720502277,
          88.32121632344422,
          70.72099946849724,
          75.04311860015694,
          85.45715502934821,
          69.00907714924305,
          63.58213875013972,
          78.28346941614889,
          93.9589445168873,
          74.99537375055203,
          87.42146757160002,
          75.57152420533848,
          70.46552358032476,
          75.27844823561392,
          80.1690478981595,
          78.62040300283796,
          97.77348781754034,
          79.54992427809216,
          82.5582035943768,
          69.58620609341473,
          82.9555569393591,
          83.34177681903425,
          77.12419833394712,
          81.39080270633778,
          80.91405726325533,
          81.62875782723093,
          84.06315253230775,
          77.26334147173574,
          65.4106623314997,
          67.22824139994246,
          85.58282095046387,
          67.84233024062135,
          86.92061127676786,
          63.978617564810655,
          69.70390192254267,
          77.93189649527889,
          79.51141827944035,
          83.98375304279631,
          76.87445075421458,
          84.75911327289828,
          64.29007163380574,
          70.31639320798583,
          77.43243518171313,
          70.54726071124931,
          62.90256674535729,
          70.17027035788999,
          64.79217173104597,
          75.91140009003787,
          82.73357614484655,
          77.76876946613743,
          82.7662831291561,
          62.81838028250851,
          75.72856416541613,
          67.2628691128189,
          76.19931216944339,
          68.33142349404177,
          78.51244626151973,
          79.21063420495611,
          83.16661078240935,
          68.44765376611637,
          76.37434527048943,
          74.83286862689855,
          85.39366027138668,
          79.2849224435124,
          71.94351918783443,
          66.26580446654819,
          74.84384965506081,
          82.97112009264806,
          77.9426406626892,
          71.9985488138216,
          58.09700995500931,
          57.28563889293863,
          88.21238718682275,
          69.10618926694599,
          80.22231202363872,
          77.91203359869158,
          83.0243540344661,
          89.10913858582384,
          72.97899309283271,
          74.44558893131881,
          75.46514844676668,
          82.22345612034907,
          77.53640850335813,
          76.66682705524279,
          63.29028849358993,
          76.08034762829266,
          83.50109663171298,
          79.40597494954525,
          71.40115269753504,
          67.62811061570734,
          81.04818095914119,
          71.22118707426318,
          61.69541944263317,
          75.26679366638521,
          83.44635557416105,
          73.70147658568817,
          77.62714607009033,
          77.45296107402339,
          80.98899707324453,
          87.70922567050178,
          83.50179530846134,
          60.39699944712779,
          89.06661082391325,
          84.99430221637239,
          79.55022187464053,
          76.85500688033403,
          72.36662633566371,
          79.43030091050638,
          85.1266719907273,
          72.59865350688159,
          77.66773981239143,
          56.03816283332214,
          73.15360829787224,
          75.69639299898678,
          90.3816456495203,
          64.05448532882963,
          62.863458827698935,
          69.78902812684966,
          85.05730518930991,
          83.88917674427188,
          79.80724747202207,
          62.74215841892026,
          81.94478362883896,
          86.11226292148204,
          76.39956057610658,
          74.36226287849098,
          74.8163318897396,
          75.96073209963497,
          74.44139857203474,
          62.11213580486496,
          92.77187827251257,
          80.91361624369979,
          67.39138576705781,
          75.60212741214488,
          76.45718676536139,
          81.26777861557825,
          91.14991229515994,
          79.69723688154224,
          73.88836804426923,
          74.97644951312583,
          80.94999011077955,
          63.92393849450811,
          80.79109195683546,
          79.07794498876416,
          74.11810022464476,
          78.7514888583306,
          78.67500496466604,
          80.82165747071468,
          67.27265525670609,
          66.87386981538799,
          75.02685535915874,
          76.22825756240682,
          68.44825119479881,
          68.74994600668715,
          76.43135425284179,
          80.01859200003511,
          77.32851080574274,
          73.08128158834285,
          76.49106519530412,
          79.28141564158575,
          73.47964081168632,
          66.33714108671694,
          81.85160554176544,
          72.80526954832648,
          74.51737038420895,
          75.92716537758582,
          73.02425358538392,
          81.38526021881859,
          77.79518407310698,
          64.55218318369768,
          81.8901146901959,
          90.00918791745602,
          68.4700833421926,
          79.257313029097,
          76.83539689058603,
          88.57727870029969,
          73.28393544110416,
          68.43520744444696,
          74.09351699179453,
          73.20578305573105,
          80.45955841711948,
          98.76175414998474,
          71.87972003300972,
          77.5715959063305,
          67.96327936750484,
          69.33178402230232,
          69.07359498820098,
          98.84375583052464,
          79.49779512537728,
          87.54904071367156,
          84.95971162482081,
          69.62319925097123,
          76.4254060741374,
          89.20534467992567,
          74.95950368092542,
          91.70325794178096,
          73.09132362166658,
          92.85040372930234,
          86.26883863574577,
          77.55394617007619,
          78.92474327254632,
          74.38816585487947,
          89.49271921516606,
          79.78630032428333,
          79.60206955029179,
          74.92464777020584,
          69.36561643713308,
          69.73709712547185,
          83.06354933768394,
          78.13585396241895,
          85.89515636120859,
          75.90956928254148,
          76.66893627962274,
          82.96533967112204,
          83.01619774663669,
          79.1237253482039,
          75.31283757044484,
          88.20706667134657,
          73.5590518123568,
          77.84733817583752,
          80.05988641915772,
          73.8627328825861,
          72.58267635779946,
          85.14000480874805,
          75.80524543517814,
          70.55942710998752,
          73.4135680602193,
          81.75602366870022,
          86.77321944203945,
          67.2160954151652,
          71.72715985552911,
          82.49632388751793,
          76.73768631844267,
          93.21841404930304,
          78.39455065208094,
          68.49891727822094,
          73.6236893035594,
          84.16006699905145,
          71.95239611852183,
          86.85307892429685,
          76.96119913359442,
          64.73408495868908,
          60.71934920375879,
          79.53641349473892,
          71.89591789087714,
          82.2988006202536,
          86.26459141524661,
          77.18138142626093,
          88.35160574829843,
          79.6683096222516,
          75.38754513746487,
          79.43136341116085,
          90.89850706078848,
          58.82047314243,
          63.87592665995615,
          92.37619236149315,
          78.40883003590025,
          67.42856121374454,
          72.95782970185579,
          84.57865296861532,
          61.49139444812299,
          88.92697402276784,
          73.05025239553935,
          81.88643449439485,
          58.24209602013117,
          75.1212922278161,
          85.90455015626561,
          76.74886744332281,
          64.20732944502826,
          56.8498285541253,
          87.79268634679283,
          71.45984361527782,
          73.9768404279642,
          76.26762690060934,
          90.01825906112286,
          79.76646360598038,
          87.17029521230282,
          80.87061710074885,
          88.08448919703298,
          75.22014747070905,
          81.22613097183303,
          72.72344605181073,
          87.19432933388649,
          75.5245962799521,
          86.73987202658985,
          83.52743893947023,
          77.28728399091317,
          70.97033275219684,
          77.39459750442413,
          64.48440467256711,
          66.07285097614827,
          72.70629943619927,
          70.34077898269254,
          81.00413677469648,
          78.44143059054966,
          73.0904401535243,
          67.92958882919045,
          91.94462323675108,
          70.06946028805963,
          68.97311365871171,
          81.74305152381166,
          71.40042116378686,
          69.56545394077557,
          87.72153704712844,
          88.54690591648122,
          74.44998449163582,
          69.19314437729022,
          88.5967232615058,
          73.58727585286015,
          75.74823226548786,
          73.12946992092232,
          82.91047044499858,
          68.2724094726897,
          71.58316625639407,
          67.22109967935921,
          80.08033043757187,
          74.24422105290891,
          87.80952509705592,
          86.32516881485017,
          84.79082442841512,
          66.23213006617978,
          71.54282748274463,
          79.55821443033956,
          62.95025497941604,
          66.18474115033203,
          83.07569262795542,
          71.48229016652637,
          83.3840260933279,
          73.2698957693604,
          70.20728102641631,
          66.304863051861,
          74.97728056174398,
          74.38874933629147,
          86.12234939542616,
          67.89021820853577,
          75.97826561353159,
          76.68428383317388,
          83.05468483972078,
          96.4521433678922,
          80.20604150306539,
          81.27375409650702,
          88.20566274109716,
          79.60890866210994,
          61.39888771817561,
          83.78843868251245,
          87.35825906953346,
          84.58918212006182,
          80.05588357031704,
          74.61537841018321,
          74.86247537123884,
          93.15131327422893,
          84.37745792736945,
          80.01859291511454,
          91.62295101595932,
          77.51480500128586,
          79.13007292495517,
          78.48401742479824,
          85.89818605259556,
          83.40112430029193,
          63.21657676999636,
          73.22462576690991,
          81.0498032003968,
          79.19585224486673,
          88.29431991830587,
          82.97342334090565,
          72.92881578485913,
          81.49782675728483,
          69.23100378261557,
          75.86536113995702,
          91.75553909552632,
          85.13385609164183,
          82.56068812241381,
          67.73072438312461,
          96.12930554206513,
          70.8375887326964,
          80.98170779606365,
          65.35606147127491,
          72.04003409880633,
          77.12078031501296,
          75.3485357126041,
          71.39760851441484,
          86.08527010293754,
          93.38115408031368,
          96.8270154708628,
          80.8873063825119,
          69.22037410972067,
          60.91932103225366,
          75.53856591079501,
          79.79984375099583,
          71.54910416615894,
          84.69091054055431,
          83.60757994011098,
          75.65001746965481,
          75.87689147812918,
          81.09720608682159,
          65.30920333087973,
          76.12563633762042,
          73.72564333172613,
          70.17277013664147,
          67.4671913764481,
          76.65420850037307,
          74.08847512819422,
          70.68157321525482,
          89.39200618617744,
          82.97682702420613,
          82.21006924138484,
          73.55268633093475,
          77.21726257918638,
          75.6426657882866,
          79.10797904501618,
          72.99207937332126,
          67.25414245900059,
          80.13297259872593,
          77.5451627844336,
          73.93699973318839,
          90.68396397094024,
          84.48618077210722,
          74.65312777725045,
          76.26071511837159,
          64.04592358287672,
          77.31037564861082,
          74.94897980032893,
          78.70128232907643,
          85.17024089526305,
          83.94589322772642,
          74.34243803823186,
          84.74009750298251,
          95.5707996894436,
          79.29740483103579,
          66.56248893051789,
          83.39737387132985,
          84.07356121613094,
          68.01886834133008,
          79.29216968690613,
          72.42289482353563,
          78.65715747769653,
          92.0584687253053,
          73.4805150982396,
          75.18282328680533,
          72.96232564251345,
          79.48897674468682,
          71.9759077409931,
          70.05016651805498,
          88.62840258913243,
          74.72368766729738,
          86.84048949236032,
          74.32750630049969,
          63.29866799894341,
          90.27979417843638,
          71.08156769592276,
          65.4436109901146,
          72.51223872311743,
          64.627594677649,
          69.59831784607292,
          75.91929167459848,
          90.07860083748253,
          79.8130611608758,
          72.35976105738673,
          83.13482273943058,
          69.88707787274514,
          79.68546683354299,
          85.94836369953953,
          74.25802409708585,
          76.35641844307433,
          79.64349269579574,
          70.99655425851765,
          82.10633650259106,
          88.26987975088674,
          83.56867192157476,
          86.33804990538727,
          76.76750273188506,
          69.9896271416063,
          71.83354857652225,
          76.93341383494749,
          85.93800098311877,
          73.76491766482671,
          81.37491574540242,
          64.16044094043943,
          70.64422480750918,
          77.15619924801943,
          67.00711451695811,
          83.07131441497877,
          87.40830975238782,
          81.38515480436469,
          85.5562355803149,
          71.35978102574492,
          77.81280294078492,
          74.0082941341654,
          67.44994385267421,
          87.4288443887374,
          73.9448971603819,
          79.66377870761887,
          67.04524826669969,
          75.14601170132461,
          68.30644775131655,
          77.43311988645691,
          85.27102849193884,
          62.72987331802409,
          73.6212367690306,
          86.78020327168382,
          71.77578114103045,
          74.63895632109018,
          64.90307781558754,
          93.63964381269945,
          83.29946207312125,
          89.96406418213438,
          82.30669218855468,
          66.57731967729397,
          72.75347139283858,
          76.95038939185675,
          71.54531130791871
         ]
        }
       ],
       "layout": {
        "height": 300,
        "template": {
         "data": {
          "bar": [
           {
            "error_x": {
             "color": "#2a3f5f"
            },
            "error_y": {
             "color": "#2a3f5f"
            },
            "marker": {
             "line": {
              "color": "white",
              "width": 0.5
             },
             "pattern": {
              "fillmode": "overlay",
              "size": 10,
              "solidity": 0.2
             }
            },
            "type": "bar"
           }
          ],
          "barpolar": [
           {
            "marker": {
             "line": {
              "color": "white",
              "width": 0.5
             },
             "pattern": {
              "fillmode": "overlay",
              "size": 10,
              "solidity": 0.2
             }
            },
            "type": "barpolar"
           }
          ],
          "carpet": [
           {
            "aaxis": {
             "endlinecolor": "#2a3f5f",
             "gridcolor": "#C8D4E3",
             "linecolor": "#C8D4E3",
             "minorgridcolor": "#C8D4E3",
             "startlinecolor": "#2a3f5f"
            },
            "baxis": {
             "endlinecolor": "#2a3f5f",
             "gridcolor": "#C8D4E3",
             "linecolor": "#C8D4E3",
             "minorgridcolor": "#C8D4E3",
             "startlinecolor": "#2a3f5f"
            },
            "type": "carpet"
           }
          ],
          "choropleth": [
           {
            "colorbar": {
             "outlinewidth": 0,
             "ticks": ""
            },
            "type": "choropleth"
           }
          ],
          "contour": [
           {
            "colorbar": {
             "outlinewidth": 0,
             "ticks": ""
            },
            "colorscale": [
             [
              0,
              "#0d0887"
             ],
             [
              0.1111111111111111,
              "#46039f"
             ],
             [
              0.2222222222222222,
              "#7201a8"
             ],
             [
              0.3333333333333333,
              "#9c179e"
             ],
             [
              0.4444444444444444,
              "#bd3786"
             ],
             [
              0.5555555555555556,
              "#d8576b"
             ],
             [
              0.6666666666666666,
              "#ed7953"
             ],
             [
              0.7777777777777778,
              "#fb9f3a"
             ],
             [
              0.8888888888888888,
              "#fdca26"
             ],
             [
              1,
              "#f0f921"
             ]
            ],
            "type": "contour"
           }
          ],
          "contourcarpet": [
           {
            "colorbar": {
             "outlinewidth": 0,
             "ticks": ""
            },
            "type": "contourcarpet"
           }
          ],
          "heatmap": [
           {
            "colorbar": {
             "outlinewidth": 0,
             "ticks": ""
            },
            "colorscale": [
             [
              0,
              "#0d0887"
             ],
             [
              0.1111111111111111,
              "#46039f"
             ],
             [
              0.2222222222222222,
              "#7201a8"
             ],
             [
              0.3333333333333333,
              "#9c179e"
             ],
             [
              0.4444444444444444,
              "#bd3786"
             ],
             [
              0.5555555555555556,
              "#d8576b"
             ],
             [
              0.6666666666666666,
              "#ed7953"
             ],
             [
              0.7777777777777778,
              "#fb9f3a"
             ],
             [
              0.8888888888888888,
              "#fdca26"
             ],
             [
              1,
              "#f0f921"
             ]
            ],
            "type": "heatmap"
           }
          ],
          "heatmapgl": [
           {
            "colorbar": {
             "outlinewidth": 0,
             "ticks": ""
            },
            "colorscale": [
             [
              0,
              "#0d0887"
             ],
             [
              0.1111111111111111,
              "#46039f"
             ],
             [
              0.2222222222222222,
              "#7201a8"
             ],
             [
              0.3333333333333333,
              "#9c179e"
             ],
             [
              0.4444444444444444,
              "#bd3786"
             ],
             [
              0.5555555555555556,
              "#d8576b"
             ],
             [
              0.6666666666666666,
              "#ed7953"
             ],
             [
              0.7777777777777778,
              "#fb9f3a"
             ],
             [
              0.8888888888888888,
              "#fdca26"
             ],
             [
              1,
              "#f0f921"
             ]
            ],
            "type": "heatmapgl"
           }
          ],
          "histogram": [
           {
            "marker": {
             "pattern": {
              "fillmode": "overlay",
              "size": 10,
              "solidity": 0.2
             }
            },
            "type": "histogram"
           }
          ],
          "histogram2d": [
           {
            "colorbar": {
             "outlinewidth": 0,
             "ticks": ""
            },
            "colorscale": [
             [
              0,
              "#0d0887"
             ],
             [
              0.1111111111111111,
              "#46039f"
             ],
             [
              0.2222222222222222,
              "#7201a8"
             ],
             [
              0.3333333333333333,
              "#9c179e"
             ],
             [
              0.4444444444444444,
              "#bd3786"
             ],
             [
              0.5555555555555556,
              "#d8576b"
             ],
             [
              0.6666666666666666,
              "#ed7953"
             ],
             [
              0.7777777777777778,
              "#fb9f3a"
             ],
             [
              0.8888888888888888,
              "#fdca26"
             ],
             [
              1,
              "#f0f921"
             ]
            ],
            "type": "histogram2d"
           }
          ],
          "histogram2dcontour": [
           {
            "colorbar": {
             "outlinewidth": 0,
             "ticks": ""
            },
            "colorscale": [
             [
              0,
              "#0d0887"
             ],
             [
              0.1111111111111111,
              "#46039f"
             ],
             [
              0.2222222222222222,
              "#7201a8"
             ],
             [
              0.3333333333333333,
              "#9c179e"
             ],
             [
              0.4444444444444444,
              "#bd3786"
             ],
             [
              0.5555555555555556,
              "#d8576b"
             ],
             [
              0.6666666666666666,
              "#ed7953"
             ],
             [
              0.7777777777777778,
              "#fb9f3a"
             ],
             [
              0.8888888888888888,
              "#fdca26"
             ],
             [
              1,
              "#f0f921"
             ]
            ],
            "type": "histogram2dcontour"
           }
          ],
          "mesh3d": [
           {
            "colorbar": {
             "outlinewidth": 0,
             "ticks": ""
            },
            "type": "mesh3d"
           }
          ],
          "parcoords": [
           {
            "line": {
             "colorbar": {
              "outlinewidth": 0,
              "ticks": ""
             }
            },
            "type": "parcoords"
           }
          ],
          "pie": [
           {
            "automargin": true,
            "type": "pie"
           }
          ],
          "scatter": [
           {
            "fillpattern": {
             "fillmode": "overlay",
             "size": 10,
             "solidity": 0.2
            },
            "type": "scatter"
           }
          ],
          "scatter3d": [
           {
            "line": {
             "colorbar": {
              "outlinewidth": 0,
              "ticks": ""
             }
            },
            "marker": {
             "colorbar": {
              "outlinewidth": 0,
              "ticks": ""
             }
            },
            "type": "scatter3d"
           }
          ],
          "scattercarpet": [
           {
            "marker": {
             "colorbar": {
              "outlinewidth": 0,
              "ticks": ""
             }
            },
            "type": "scattercarpet"
           }
          ],
          "scattergeo": [
           {
            "marker": {
             "colorbar": {
              "outlinewidth": 0,
              "ticks": ""
             }
            },
            "type": "scattergeo"
           }
          ],
          "scattergl": [
           {
            "marker": {
             "colorbar": {
              "outlinewidth": 0,
              "ticks": ""
             }
            },
            "type": "scattergl"
           }
          ],
          "scattermapbox": [
           {
            "marker": {
             "colorbar": {
              "outlinewidth": 0,
              "ticks": ""
             }
            },
            "type": "scattermapbox"
           }
          ],
          "scatterpolar": [
           {
            "marker": {
             "colorbar": {
              "outlinewidth": 0,
              "ticks": ""
             }
            },
            "type": "scatterpolar"
           }
          ],
          "scatterpolargl": [
           {
            "marker": {
             "colorbar": {
              "outlinewidth": 0,
              "ticks": ""
             }
            },
            "type": "scatterpolargl"
           }
          ],
          "scatterternary": [
           {
            "marker": {
             "colorbar": {
              "outlinewidth": 0,
              "ticks": ""
             }
            },
            "type": "scatterternary"
           }
          ],
          "surface": [
           {
            "colorbar": {
             "outlinewidth": 0,
             "ticks": ""
            },
            "colorscale": [
             [
              0,
              "#0d0887"
             ],
             [
              0.1111111111111111,
              "#46039f"
             ],
             [
              0.2222222222222222,
              "#7201a8"
             ],
             [
              0.3333333333333333,
              "#9c179e"
             ],
             [
              0.4444444444444444,
              "#bd3786"
             ],
             [
              0.5555555555555556,
              "#d8576b"
             ],
             [
              0.6666666666666666,
              "#ed7953"
             ],
             [
              0.7777777777777778,
              "#fb9f3a"
             ],
             [
              0.8888888888888888,
              "#fdca26"
             ],
             [
              1,
              "#f0f921"
             ]
            ],
            "type": "surface"
           }
          ],
          "table": [
           {
            "cells": {
             "fill": {
              "color": "#EBF0F8"
             },
             "line": {
              "color": "white"
             }
            },
            "header": {
             "fill": {
              "color": "#C8D4E3"
             },
             "line": {
              "color": "white"
             }
            },
            "type": "table"
           }
          ]
         },
         "layout": {
          "annotationdefaults": {
           "arrowcolor": "#2a3f5f",
           "arrowhead": 0,
           "arrowwidth": 1
          },
          "autotypenumbers": "strict",
          "coloraxis": {
           "colorbar": {
            "outlinewidth": 0,
            "ticks": ""
           }
          },
          "colorscale": {
           "diverging": [
            [
             0,
             "#8e0152"
            ],
            [
             0.1,
             "#c51b7d"
            ],
            [
             0.2,
             "#de77ae"
            ],
            [
             0.3,
             "#f1b6da"
            ],
            [
             0.4,
             "#fde0ef"
            ],
            [
             0.5,
             "#f7f7f7"
            ],
            [
             0.6,
             "#e6f5d0"
            ],
            [
             0.7,
             "#b8e186"
            ],
            [
             0.8,
             "#7fbc41"
            ],
            [
             0.9,
             "#4d9221"
            ],
            [
             1,
             "#276419"
            ]
           ],
           "sequential": [
            [
             0,
             "#0d0887"
            ],
            [
             0.1111111111111111,
             "#46039f"
            ],
            [
             0.2222222222222222,
             "#7201a8"
            ],
            [
             0.3333333333333333,
             "#9c179e"
            ],
            [
             0.4444444444444444,
             "#bd3786"
            ],
            [
             0.5555555555555556,
             "#d8576b"
            ],
            [
             0.6666666666666666,
             "#ed7953"
            ],
            [
             0.7777777777777778,
             "#fb9f3a"
            ],
            [
             0.8888888888888888,
             "#fdca26"
            ],
            [
             1,
             "#f0f921"
            ]
           ],
           "sequentialminus": [
            [
             0,
             "#0d0887"
            ],
            [
             0.1111111111111111,
             "#46039f"
            ],
            [
             0.2222222222222222,
             "#7201a8"
            ],
            [
             0.3333333333333333,
             "#9c179e"
            ],
            [
             0.4444444444444444,
             "#bd3786"
            ],
            [
             0.5555555555555556,
             "#d8576b"
            ],
            [
             0.6666666666666666,
             "#ed7953"
            ],
            [
             0.7777777777777778,
             "#fb9f3a"
            ],
            [
             0.8888888888888888,
             "#fdca26"
            ],
            [
             1,
             "#f0f921"
            ]
           ]
          },
          "colorway": [
           "#636efa",
           "#EF553B",
           "#00cc96",
           "#ab63fa",
           "#FFA15A",
           "#19d3f3",
           "#FF6692",
           "#B6E880",
           "#FF97FF",
           "#FECB52"
          ],
          "font": {
           "color": "#2a3f5f"
          },
          "geo": {
           "bgcolor": "white",
           "lakecolor": "white",
           "landcolor": "white",
           "showlakes": true,
           "showland": true,
           "subunitcolor": "#C8D4E3"
          },
          "hoverlabel": {
           "align": "left"
          },
          "hovermode": "closest",
          "mapbox": {
           "style": "light"
          },
          "paper_bgcolor": "white",
          "plot_bgcolor": "white",
          "polar": {
           "angularaxis": {
            "gridcolor": "#EBF0F8",
            "linecolor": "#EBF0F8",
            "ticks": ""
           },
           "bgcolor": "white",
           "radialaxis": {
            "gridcolor": "#EBF0F8",
            "linecolor": "#EBF0F8",
            "ticks": ""
           }
          },
          "scene": {
           "xaxis": {
            "backgroundcolor": "white",
            "gridcolor": "#DFE8F3",
            "gridwidth": 2,
            "linecolor": "#EBF0F8",
            "showbackground": true,
            "ticks": "",
            "zerolinecolor": "#EBF0F8"
           },
           "yaxis": {
            "backgroundcolor": "white",
            "gridcolor": "#DFE8F3",
            "gridwidth": 2,
            "linecolor": "#EBF0F8",
            "showbackground": true,
            "ticks": "",
            "zerolinecolor": "#EBF0F8"
           },
           "zaxis": {
            "backgroundcolor": "white",
            "gridcolor": "#DFE8F3",
            "gridwidth": 2,
            "linecolor": "#EBF0F8",
            "showbackground": true,
            "ticks": "",
            "zerolinecolor": "#EBF0F8"
           }
          },
          "shapedefaults": {
           "line": {
            "color": "#2a3f5f"
           }
          },
          "ternary": {
           "aaxis": {
            "gridcolor": "#DFE8F3",
            "linecolor": "#A2B1C6",
            "ticks": ""
           },
           "baxis": {
            "gridcolor": "#DFE8F3",
            "linecolor": "#A2B1C6",
            "ticks": ""
           },
           "bgcolor": "white",
           "caxis": {
            "gridcolor": "#DFE8F3",
            "linecolor": "#A2B1C6",
            "ticks": ""
           }
          },
          "title": {
           "x": 0.05
          },
          "xaxis": {
           "automargin": true,
           "gridcolor": "#EBF0F8",
           "linecolor": "#EBF0F8",
           "ticks": "",
           "title": {
            "standoff": 15
           },
           "zerolinecolor": "#EBF0F8",
           "zerolinewidth": 2
          },
          "yaxis": {
           "automargin": true,
           "gridcolor": "#EBF0F8",
           "linecolor": "#EBF0F8",
           "ticks": "",
           "title": {
            "standoff": 15
           },
           "zerolinecolor": "#EBF0F8",
           "zerolinewidth": 2
          }
         }
        },
        "width": 1000
       }
      }
     },
     "metadata": {},
     "output_type": "display_data"
    }
   ],
   "source": [
    "#a box plot to visualize the distribution of energy consumption\n",
    "fig = go.Figure()\n",
    "fig.add_trace(go.Box(x=df[\"EnergyConsumption\"], \n",
    "                     boxmean='sd',\n",
    "                     marker_color='rgb(255,140,0)',  \n",
    "                     line_color='rgb(255,140,0)',    \n",
    "                     fillcolor='rgba(255,140,0,0.5)')) \n",
    "\n",
    "fig.update_layout(template=\"plotly_white\", width=1000, height=300)  # Use bright template\n",
    "fig.show()"
   ]
  },
  {
   "cell_type": "code",
   "execution_count": 14,
   "id": "f8eb4c82-79f6-47cb-8563-1843f42799ee",
   "metadata": {},
   "outputs": [],
   "source": [
    "df = pd.get_dummies(df) #convert categorical variables into dummy"
   ]
  },
  {
   "cell_type": "code",
   "execution_count": 15,
   "id": "8b7f7655-0b45-419a-a70a-e46e35ee76b6",
   "metadata": {},
   "outputs": [
    {
     "data": {
      "image/png": "[encoded data removed]",
      "text/plain": [
       "<Figure size 1300x700 with 6 Axes>"
      ]
     },
     "metadata": {},
     "output_type": "display_data"
    }
   ],
   "source": [
    "def custom_boxplot(data, columns):\n",
    "    fig, axes = plt.subplots(2, 3, figsize=(13, 7)) # # Create a figure with 2 rows and 3 columns \n",
    "\n",
    "    # Define a custom color palette\n",
    "    colors = sns.color_palette(\"husl\", len(columns))\n",
    "    \n",
    " # Iterate over each column in the list 'columns'\n",
    "    for i, column in enumerate(columns): \n",
    "        sns.boxplot(x=data[column], ax=axes[i//3, i%3], color=colors[i])\n",
    "        axes[i//3, i%3].set_xlabel(column)\n",
    "\n",
    "    plt.tight_layout()\n",
    "    plt.show()\n",
    "# List of columns to plot\n",
    "columns = ['Temperature', 'Humidity', 'SquareFootage', 'Occupancy', 'RenewableEnergy', 'EnergyConsumption']\n",
    "custom_boxplot(df, columns)\n"
   ]
  },
  {
   "cell_type": "markdown",
   "id": "6d9c034e-d163-4fff-bf12-04f94c05b4a9",
   "metadata": {},
   "source": [
    "## Outlier removal"
   ]
  },
  {
   "cell_type": "code",
   "execution_count": 16,
   "id": "061c6504-6e33-4788-8b4b-9f5ee5451180",
   "metadata": {},
   "outputs": [],
   "source": [
    "def total_outliers(column):\n",
    "    column_df = pd.DataFrame(column)\n",
    "    q1 = column.quantile(0.25)# Calculate the first quartile (Q1)\n",
    "    q3 = column.quantile(0.75) # Calculate the third quartile (Q3)\n",
    "    IQR = q3 - q1 # Calculate the interquartile range (IQR)\n",
    "    outliers1 = column_df[(column_df<(q1-1.5*IQR)) | (column_df>(q3+1.5*IQR))] # Find outliers\n",
    "    hasil = outliers1.count()\n",
    "    return hasil  # Return the no of outliers\n"
   ]
  },
  {
   "cell_type": "code",
   "execution_count": 17,
   "id": "3cc090b8-2d97-4b21-85d8-77e400b43887",
   "metadata": {},
   "outputs": [
    {
     "data": {
      "text/plain": [
       "EnergyConsumption    1\n",
       "dtype: int64"
      ]
     },
     "execution_count": 17,
     "metadata": {},
     "output_type": "execute_result"
    }
   ],
   "source": [
    "total_outliers(df['EnergyConsumption']) #no of outliers\n"
   ]
  },
  {
   "cell_type": "code",
   "execution_count": 18,
   "id": "c982908c-7e5a-4c51-84f8-0871dae1418c",
   "metadata": {},
   "outputs": [],
   "source": [
    "df.drop(df[df['EnergyConsumption'] == df['EnergyConsumption'].min()].index, axis=0, inplace=True) #dropping the outlier"
   ]
  },
  {
   "cell_type": "markdown",
   "id": "09e59df3-ec79-488b-a4df-e3c16559ce0e",
   "metadata": {},
   "source": [
    "# Feature Engineering"
   ]
  },
  {
   "cell_type": "code",
   "execution_count": 20,
   "id": "63b2a1c8-1453-478b-8957-9cbfd97e50ad",
   "metadata": {},
   "outputs": [],
   "source": [
    "#creates a new column named 'Temperature*Humidity'\n",
    "df['Temperature*Humidity'] = df['Temperature'] * df['Humidity']"
   ]
  },
  {
   "cell_type": "code",
   "execution_count": 21,
   "id": "a1c8c78b-4ebb-4eb9-9c85-a16a4c4d0549",
   "metadata": {},
   "outputs": [],
   "source": [
    "#ratio of renewable energy to total energy consumption\n",
    "df['RenewableEnergyRatio'] = df['RenewableEnergy'] / df['EnergyConsumption']"
   ]
  },
  {
   "cell_type": "code",
   "execution_count": 22,
   "id": "ea9d7c65-af25-48a3-b69d-b30ff7190512",
   "metadata": {},
   "outputs": [],
   "source": [
    "#Combine the \"HVACUsage_Off\" and \"HVACUsage_On\" columns to get the total HVAC usage.\n",
    "df['Total_HVAC_Usage'] = df['HVACUsage_Off'] + df['HVACUsage_On']\n",
    "#Total Lighting Usage\n",
    "df['Total_Lighting_Usage'] = df['LightingUsage_Off'] + df['LightingUsage_On'] \n",
    "#Divide occupancy by square footage to get occupancy density\n",
    "df['Occupancy_Density'] = df['Occupancy'] / df['SquareFootage']\n"
   ]
  },
  {
   "cell_type": "code",
   "execution_count": 23,
   "id": "a6e6ced4-017a-4295-8262-d7fa7587bec4",
   "metadata": {},
   "outputs": [
    {
     "data": {
      "text/plain": [
       "Temperature             float64\n",
       "Humidity                float64\n",
       "SquareFootage           float64\n",
       "Occupancy                 int64\n",
       "RenewableEnergy         float64\n",
       "EnergyConsumption       float64\n",
       "HVACUsage_Off             uint8\n",
       "HVACUsage_On              uint8\n",
       "LightingUsage_Off         uint8\n",
       "LightingUsage_On          uint8\n",
       "DayOfWeek_Friday          uint8\n",
       "DayOfWeek_Monday          uint8\n",
       "DayOfWeek_Saturday        uint8\n",
       "DayOfWeek_Sunday          uint8\n",
       "DayOfWeek_Thursday        uint8\n",
       "DayOfWeek_Tuesday         uint8\n",
       "DayOfWeek_Wednesday       uint8\n",
       "Holiday_No                uint8\n",
       "Holiday_Yes               uint8\n",
       "Temperature*Humidity    float64\n",
       "RenewableEnergyRatio    float64\n",
       "Total_HVAC_Usage          uint8\n",
       "Total_Lighting_Usage      uint8\n",
       "Occupancy_Density       float64\n",
       "dtype: object"
      ]
     },
     "execution_count": 23,
     "metadata": {},
     "output_type": "execute_result"
    }
   ],
   "source": [
    "df.dtypes"
   ]
  },
  {
   "cell_type": "code",
   "execution_count": 24,
   "id": "6e361460-d3aa-4185-81b4-dac8e793826f",
   "metadata": {},
   "outputs": [],
   "source": [
    "df = df.reset_index(drop=True) # resets the old index column"
   ]
  },
  {
   "cell_type": "code",
   "execution_count": 26,
   "id": "c7da8fa3-7ff4-4459-8e00-e3a78f9f397d",
   "metadata": {},
   "outputs": [],
   "source": [
    "num_cols = df.select_dtypes(include=['float64', 'int64']).columns # Select numerical columns\n",
    "scaler = StandardScaler()\n",
    "df[num_cols] = scaler.fit_transform(df[num_cols]) #standardizes the numerical columns"
   ]
  },
  {
   "cell_type": "code",
   "execution_count": 27,
   "id": "9afa7a90-0242-44c5-aebe-3b83b66db119",
   "metadata": {},
   "outputs": [],
   "source": [
    "X,y = df.drop(['EnergyConsumption'], axis =1), df['EnergyConsumption'] #splits the DataFrame to x which is feature variables and y he arget variable "
   ]
  },
  {
   "cell_type": "code",
   "execution_count": 28,
   "id": "d9011a66-8391-40b6-b3f2-b3bf94b56c90",
   "metadata": {},
   "outputs": [],
   "source": [
    "X_train, X_test, y_train, y_test = train_test_split(X,y, test_size =0.2, random_state =42) #X_train feature for training. X_test feature for testing"
   ]
  },
  {
   "cell_type": "code",
   "execution_count": 29,
   "id": "0d0383a1-282e-4fc3-8dd0-4e25a4806c29",
   "metadata": {},
   "outputs": [],
   "source": [
    "logging.getLogger('lightgbm').setLevel(logging.ERROR) # Suppress all logging messages \n",
    "\n",
    "# Redirect stdout and stderr to /dev/null to suppress all console output\n",
    "sys.stdout = open(os.devnull, 'w')\n",
    "sys.stderr = open(os.devnull, 'w')"
   ]
  },
  {
   "cell_type": "markdown",
   "id": "b1649cdf-ed57-40a8-ac32-f896e2a26502",
   "metadata": {},
   "source": [
    "# Building Base Model without Tuning."
   ]
  },
  {
   "cell_type": "code",
   "execution_count": 30,
   "id": "eb023fb6-9d51-4735-ac0b-fec21ae0b632",
   "metadata": {},
   "outputs": [],
   "source": [
    "# Create instances of each model\n",
    "xgb_model = XGBRegressor()\n",
    "extra_trees_model = ExtraTreesRegressor()\n",
    "rf_model = RandomForestRegressor()\n",
    "gb_model = GradientBoostingRegressor()\n",
    "lgb_model = lgb.LGBMRegressor()"
   ]
  },
  {
   "cell_type": "code",
   "execution_count": 31,
   "id": "58ff22bf-d638-4d0b-8f45-a7dacfd93394",
   "metadata": {},
   "outputs": [],
   "source": [
    "#Training machine learning models\n",
    "xgb_model.fit(X_train, y_train)\n",
    "extra_trees_model.fit(X_train, y_train)\n",
    "rf_model.fit(X_train, y_train)\n",
    "gb_model.fit(X_train, y_train)\n",
    "lgb_model.fit(X_train, y_train)\n",
    "\n",
    "#making Prediction\n",
    "xgb_preds = xgb_model.predict(X_test)\n",
    "extra_trees_preds = extra_trees_model.predict(X_test)\n",
    "rf_preds = rf_model.predict(X_test)\n",
    "gb_preds = gb_model.predict(X_test)\n",
    "lgb_preds = lgb_model.predict(X_test)"
   ]
  },
  {
   "cell_type": "markdown",
   "id": "1930e8be-3904-4acc-b4d9-2d28eb760653",
   "metadata": {},
   "source": [
    "## Evaluation"
   ]
  },
  {
   "cell_type": "code",
   "execution_count": 32,
   "id": "9be488d7-cb32-45f5-991f-a7510e201b65",
   "metadata": {},
   "outputs": [
    {
     "data": {
      "text/html": [
       "<div>\n",
       "<style scoped>\n",
       "    .dataframe tbody tr th:only-of-type {\n",
       "        vertical-align: middle;\n",
       "    }\n",
       "\n",
       "    .dataframe tbody tr th {\n",
       "        vertical-align: top;\n",
       "    }\n",
       "\n",
       "    .dataframe thead th {\n",
       "        text-align: right;\n",
       "    }\n",
       "</style>\n",
       "<table border=\"1\" class=\"dataframe\">\n",
       "  <thead>\n",
       "    <tr style=\"text-align: right;\">\n",
       "      <th></th>\n",
       "      <th>Model</th>\n",
       "      <th>MSE</th>\n",
       "    </tr>\n",
       "  </thead>\n",
       "  <tbody>\n",
       "    <tr>\n",
       "      <th>0</th>\n",
       "      <td>XGBoost</td>\n",
       "      <td>0.342874</td>\n",
       "    </tr>\n",
       "    <tr>\n",
       "      <th>1</th>\n",
       "      <td>Extra Trees</td>\n",
       "      <td>0.487687</td>\n",
       "    </tr>\n",
       "    <tr>\n",
       "      <th>2</th>\n",
       "      <td>Random Forest</td>\n",
       "      <td>0.430201</td>\n",
       "    </tr>\n",
       "    <tr>\n",
       "      <th>3</th>\n",
       "      <td>Gradient Boosting</td>\n",
       "      <td>0.311872</td>\n",
       "    </tr>\n",
       "    <tr>\n",
       "      <th>4</th>\n",
       "      <td>LightGBM</td>\n",
       "      <td>0.260408</td>\n",
       "    </tr>\n",
       "  </tbody>\n",
       "</table>\n",
       "</div>"
      ],
      "text/plain": [
       "               Model       MSE\n",
       "0            XGBoost  0.342874\n",
       "1        Extra Trees  0.487687\n",
       "2      Random Forest  0.430201\n",
       "3  Gradient Boosting  0.311872\n",
       "4           LightGBM  0.260408"
      ]
     },
     "execution_count": 32,
     "metadata": {},
     "output_type": "execute_result"
    }
   ],
   "source": [
    "\n",
    "# Calculate Mean square Error MSE.MSE measures the average squared difference between the predicted and the actual target values  \n",
    "mse_values = {\n",
    "    'Model': ['XGBoost', 'Extra Trees', 'Random Forest', 'Gradient Boosting', 'LightGBM'],\n",
    "    'MSE': [\n",
    "        mean_squared_error(y_test, xgb_preds),\n",
    "        mean_squared_error(y_test, extra_trees_preds),\n",
    "        mean_squared_error(y_test, rf_preds),\n",
    "        mean_squared_error(y_test, gb_preds),\n",
    "        mean_squared_error(y_test, lgb_preds)\n",
    "    ]\n",
    "}\n",
    "\n",
    "mse_df = pd.DataFrame(mse_values)\n",
    "mse_df"
   ]
  },
  {
   "cell_type": "code",
   "execution_count": 33,
   "id": "928406bd-41a5-4864-a143-9410cedbf457",
   "metadata": {},
   "outputs": [],
   "source": [
    "ensemble_preds = np.column_stack((xgb_preds, extra_trees_preds, rf_preds, gb_preds, lgb_preds))#tack predictions from various ensemble models"
   ]
  },
  {
   "cell_type": "code",
   "execution_count": 34,
   "id": "702fb122-fb97-4ab1-96a8-93a0b57a4df9",
   "metadata": {},
   "outputs": [],
   "source": [
    "ensemble_mean_preds = ensemble_preds.mean(axis=1)# calculate the mean of the predictions made by multiple ensemble models"
   ]
  },
  {
   "cell_type": "code",
   "execution_count": 35,
   "id": "1b456baf-b5d8-4595-b53f-fa48880e5afb",
   "metadata": {},
   "outputs": [
    {
     "data": {
      "text/html": [
       "<div>\n",
       "<style scoped>\n",
       "    .dataframe tbody tr th:only-of-type {\n",
       "        vertical-align: middle;\n",
       "    }\n",
       "\n",
       "    .dataframe tbody tr th {\n",
       "        vertical-align: top;\n",
       "    }\n",
       "\n",
       "    .dataframe thead th {\n",
       "        text-align: right;\n",
       "    }\n",
       "</style>\n",
       "<table border=\"1\" class=\"dataframe\">\n",
       "  <thead>\n",
       "    <tr style=\"text-align: right;\">\n",
       "      <th></th>\n",
       "      <th>Metric</th>\n",
       "      <th>Value</th>\n",
       "    </tr>\n",
       "  </thead>\n",
       "  <tbody>\n",
       "    <tr>\n",
       "      <th>0</th>\n",
       "      <td>MSE</td>\n",
       "      <td>0.331640</td>\n",
       "    </tr>\n",
       "    <tr>\n",
       "      <th>1</th>\n",
       "      <td>R-squared</td>\n",
       "      <td>0.646468</td>\n",
       "    </tr>\n",
       "  </tbody>\n",
       "</table>\n",
       "</div>"
      ],
      "text/plain": [
       "      Metric     Value\n",
       "0        MSE  0.331640\n",
       "1  R-squared  0.646468"
      ]
     },
     "execution_count": 35,
     "metadata": {},
     "output_type": "execute_result"
    }
   ],
   "source": [
    "# Calculate Mean square Error MSE.\n",
    "ensemble_mse = mean_squared_error(y_test, ensemble_mean_preds)\n",
    "ensemble_r2 = r2_score(y_test, ensemble_mean_preds)\n",
    "# Createing a DataFrame\n",
    "ensemble_metrics = {\n",
    "    'Metric': ['MSE','R-squared'],\n",
    "    'Value': [ensemble_mse, ensemble_r2]\n",
    "}\n",
    "ensemble = pd.DataFrame(ensemble_metrics)\n",
    "ensemble"
   ]
  },
  {
   "cell_type": "markdown",
   "id": "34df8207-d979-427c-939a-8da6a814957c",
   "metadata": {},
   "source": [
    "# Hyperparameter tuning"
   ]
  },
  {
   "cell_type": "code",
   "execution_count": 36,
   "id": "b1e6916b-64eb-4237-9cd0-e5d31ca942df",
   "metadata": {},
   "outputs": [],
   "source": [
    "base_models = [\n",
    "    XGBRegressor(),\n",
    "    ExtraTreesRegressor(),\n",
    "    RandomForestRegressor(),\n",
    "    GradientBoostingRegressor(),\n",
    "    lgb.LGBMRegressor()\n",
    " \n",
    "]"
   ]
  },
  {
   "cell_type": "code",
   "execution_count": 37,
   "id": "f4d55383-fdf4-467b-a83a-e3a955313f57",
   "metadata": {},
   "outputs": [],
   "source": [
    "\n",
    "# Defining the hyperparameter grids for each model\n",
    "xgb_param_grid = {\n",
    "    'max_depth': [3, 5, 7],\n",
    "    'n_estimators': [100, 200, 300],\n",
    "    'learning_rate': [0.01, 0.05, 0.1]\n",
    "}\n",
    "\n",
    "extra_trees_param_grid = {\n",
    "    'n_estimators': [100, 200, 300],\n",
    "    'max_depth': [3, 5, 7],\n",
    "    'max_features': ['sqrt', 'log2']\n",
    "}\n",
    "\n",
    "rf_param_grid = {\n",
    "    'n_estimators': [100, 200, 300],\n",
    "    'max_depth': [3, 5, 7],\n",
    "    'max_features': ['sqrt', 'log2']\n",
    "}\n",
    "\n",
    "gb_param_grid = {\n",
    "    'n_estimators': [100, 200, 300],\n",
    "    'max_depth': [3, 5, 7],\n",
    "    'learning_rate': [0.01, 0.05, 0.1]\n",
    "}\n",
    "\n",
    "lgb_param_grid = {\n",
    "    'n_estimators': [100, 200, 300],\n",
    "    'max_depth': [3, 5, 7],\n",
    "    'learning_rate': [0.01, 0.05, 0.1]\n",
    "}"
   ]
  },
  {
   "cell_type": "code",
   "execution_count": 38,
   "id": "bb3c603e-152f-4e82-8350-68bc48bd76e3",
   "metadata": {},
   "outputs": [],
   "source": [
    "# Creating base models\n",
    "base_models = [\n",
    "    XGBRegressor(),\n",
    "    ExtraTreesRegressor(),\n",
    "    RandomForestRegressor(),\n",
    "    GradientBoostingRegressor(),\n",
    "    lgb.LGBMRegressor()\n",
    "]\n",
    "\n",
    "# Creating a list of base models with their corresponding hyperparameter grids\n",
    "base_models_with_grids = [\n",
    "    (XGBRegressor(), xgb_param_grid),\n",
    "    (ExtraTreesRegressor(), extra_trees_param_grid),\n",
    "    (RandomForestRegressor(), rf_param_grid),\n",
    "    (GradientBoostingRegressor(), gb_param_grid),\n",
    "    (lgb.LGBMRegressor(), lgb_param_grid)\n",
    "]"
   ]
  },
  {
   "cell_type": "markdown",
   "id": "36c3c27f-58fb-49ae-92f4-d961d84ba9ff",
   "metadata": {},
   "source": [
    "## Ensemble Model Building"
   ]
  },
  {
   "cell_type": "code",
   "execution_count": 39,
   "id": "2d8d89d4-eb91-4012-a00c-97565150aca8",
   "metadata": {},
   "outputs": [],
   "source": [
    "#tuning multiple base models using grid search\n",
    "tuned_base_models = []\n",
    "base_models_grid_search = []\n",
    "for model, param_grid in base_models_with_grids:\n",
    "    grid_search = GridSearchCV(model, param_grid, cv=5, scoring='neg_mean_squared_error')\n",
    "    grid_search.fit(X_train, y_train) #fits several models,\n",
    "    tuned_base_models.append(grid_search.best_estimator_)\n",
    "    base_models_grid_search.append(grid_search)\n",
    "\n",
    "\n",
    "base_predictions = np.zeros((X_train.shape[0], len(tuned_base_models)))"
   ]
  },
  {
   "cell_type": "code",
   "execution_count": 43,
   "id": "38efe7a9-f901-488e-bf00-c8bddc36bdc1",
   "metadata": {},
   "outputs": [],
   "source": [
    "# Using cross-validation to obtain out-of-fold predictions from the tuned base models\n",
    "kf = KFold(n_splits=5, shuffle=True, random_state=42)\n",
    "for i, model in enumerate(tuned_base_models):\n",
    "    base_predictions[:, i] = cross_val_predict(model, X_train, y_train, cv=kf)\n",
    "\n",
    "# Combining the original features with the base model predictions\n",
    "stacked_X_train = np.column_stack([X_train, base_predictions])\n",
    "\n",
    "# Defining the hyperparameter grid for the meta-model\n",
    "meta_param_grid = {\n",
    "    'n_estimators': [100, 200, 300,600],\n",
    "    'max_depth': [3, 5, 7,10,15],\n",
    "    'max_features': ['sqrt', 'log2']\n",
    "}\n",
    "\n",
    "# Performing grid search for the meta-model(our new model)\n",
    "meta_model = RandomForestRegressor()\n",
    "grid_search = GridSearchCV(meta_model, meta_param_grid, cv=5, scoring='neg_mean_squared_error')\n",
    "grid_search.fit(stacked_X_train, y_train)\n",
    "tuned_meta_model = grid_search.best_estimator_\n",
    "\n",
    "# Making predictions on the test set \n",
    "base_predictions_test = np.column_stack([model.predict(X_test) for model in tuned_base_models])\n",
    "stacked_X_test = np.column_stack([X_test, base_predictions_test])\n",
    "meta_preds = tuned_meta_model.predict(stacked_X_test)\n"
   ]
  },
  {
   "cell_type": "markdown",
   "id": "369ab920-e359-4391-a634-94ebceeb9b0f",
   "metadata": {},
   "source": [
    "### Evaluating the performance of the stacked model"
   ]
  },
  {
   "cell_type": "code",
   "execution_count": 44,
   "id": "149e9896-bde1-4a6b-abf6-35a884415f77",
   "metadata": {},
   "outputs": [],
   "source": [
    "ensemble_mse = mean_squared_error(y_test, meta_preds)\n",
    "ensemble_r2 = r2_score(y_test, meta_preds)\n",
    "ensemble_rmse = np.sqrt(mean_squared_error(y_test, meta_preds))\n",
    "\n",
    "print(f\"Ensemble MSE: {ensemble_mse:.4f}\")\n",
    "print(f\"Ensemble R-squared: {ensemble_r2:.4f}\")\n",
    "print(f\"Ensemble RMSE: {ensemble_rmse:.4f}\")"
   ]
  },
  {
   "cell_type": "code",
   "execution_count": 42,
   "id": "f712e788-1113-4936-bd51-ec220330c08a",
   "metadata": {},
   "outputs": [
    {
     "data": {
      "text/html": [
       "<div>\n",
       "<style scoped>\n",
       "    .dataframe tbody tr th:only-of-type {\n",
       "        vertical-align: middle;\n",
       "    }\n",
       "\n",
       "    .dataframe tbody tr th {\n",
       "        vertical-align: top;\n",
       "    }\n",
       "\n",
       "    .dataframe thead th {\n",
       "        text-align: right;\n",
       "    }\n",
       "</style>\n",
       "<table border=\"1\" class=\"dataframe\">\n",
       "  <thead>\n",
       "    <tr style=\"text-align: right;\">\n",
       "      <th></th>\n",
       "      <th>Metric</th>\n",
       "      <th>Value</th>\n",
       "    </tr>\n",
       "  </thead>\n",
       "  <tbody>\n",
       "    <tr>\n",
       "      <th>0</th>\n",
       "      <td>MSE</td>\n",
       "      <td>0.255326</td>\n",
       "    </tr>\n",
       "    <tr>\n",
       "      <th>1</th>\n",
       "      <td>R2</td>\n",
       "      <td>0.727819</td>\n",
       "    </tr>\n",
       "    <tr>\n",
       "      <th>2</th>\n",
       "      <td>RMSE</td>\n",
       "      <td>0.505298</td>\n",
       "    </tr>\n",
       "  </tbody>\n",
       "</table>\n",
       "</div>"
      ],
      "text/plain": [
       "  Metric     Value\n",
       "0    MSE  0.255326\n",
       "1     R2  0.727819\n",
       "2   RMSE  0.505298"
      ]
     },
     "execution_count": 42,
     "metadata": {},
     "output_type": "execute_result"
    }
   ],
   "source": [
    "\n",
    "# Creating DataFrame for performance\n",
    "ensemble_metrics = {\n",
    "    'Metric': ['MSE', 'R2','RMSE'],\n",
    "    'Value': [ensemble_mse, ensemble_r2,ensemble_rmse]\n",
    "}\n",
    "ensemble_df = pd.DataFrame(ensemble_metrics)\n",
    "ensemble_df"
   ]
  }
 ],
 "metadata": {
  "kernelspec": {
   "display_name": "Python 3 (ipykernel)",
   "language": "python",
   "name": "python3"
  },
  "language_info": {
   "codemirror_mode": {
    "name": "ipython",
    "version": 3
   },
   "file_extension": ".py",
   "mimetype": "text/x-python",
   "name": "python",
   "nbconvert_exporter": "python",
   "pygments_lexer": "ipython3",
   "version": "3.11.5"
  }
 },
 "nbformat": 4,
 "nbformat_minor": 5
}
